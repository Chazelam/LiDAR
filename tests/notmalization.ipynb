{
 "cells": [
  {
   "cell_type": "code",
   "execution_count": 3,
   "id": "1dac9b16",
   "metadata": {},
   "outputs": [],
   "source": [
    "import numpy as np\n",
    "from scipy.interpolate import griddata\n",
    "from scipy.spatial import cKDTree\n",
    "import laspy\n",
    "from scipy import ndimage\n",
    "from tqdm import tqdm\n",
    "import os"
   ]
  },
  {
   "cell_type": "code",
   "execution_count": null,
   "id": "b5c3c92a",
   "metadata": {},
   "outputs": [],
   "source": [
    "def print_las_info(las_path):\n",
    "    \"\"\"\n",
    "    Выводит основную информацию о LAS/LAZ файле:\n",
    "    количество точек, границы (X, Y, Z), размер области и примерную плотность.\n",
    "    x, y - \n",
    "    z - высота\n",
    "    \"\"\"\n",
    "    with laspy.open(las_path) as f:\n",
    "        header = f.header\n",
    "        num_points = header.point_count\n",
    "        min_x, max_x = header.mins[0], header.maxs[0]\n",
    "        min_y, max_y = header.mins[1], header.maxs[1]\n",
    "        min_z, max_z = header.mins[2], header.maxs[2]\n",
    "\n",
    "        width = max_x - min_x\n",
    "        lenght = max_y - min_y\n",
    "        area = width * lenght if width > 0 and lenght > 0 else np.nan\n",
    "        density = num_points / area if area and not np.isnan(area) else np.nan\n",
    "\n",
    "        print(f\"\\nФайл: {os.path.basename(las_path)}\")\n",
    "        print(f\"Формат версии: {header.version}\")\n",
    "        print(f\"Количество точек: {num_points:,}\")\n",
    "        print(f\"Диапазон координат (X, Y, Z):\")\n",
    "        print(f\"  X: {min_x:.2f} - {max_x:.2f}  (ширина {width:.2f} м)\")\n",
    "        print(f\"  Y: {min_y:.2f} - {max_y:.2f}  (размах {lenght:.2f} м)\")\n",
    "        print(f\"  Z: {min_z:.2f} - {max_z:.2f}  (высота {max_z - min_z:.2f} м)\")\n",
    "        print(f\"Площадь покрытия: {area/1e6:.2f} км²\")\n",
    "\n",
    "        print(f\"Средняя плотность: {density:.2f} точек/м²\\n\")\n",
    "\n",
    "        # Первые несколько точек\n",
    "        print(\"Пример точек:\")\n",
    "        for points in f.chunk_iterator(3):\n",
    "            for i in range(3):\n",
    "                print(f\"x: {points.x[i]:.2f} y: {points.y[i]:.2f} z: {points.z[i]:.2f}\")\n",
    "            break"
   ]
  },
  {
   "cell_type": "code",
   "execution_count": null,
   "id": "88274ef8",
   "metadata": {},
   "outputs": [],
   "source": [
    "def progressive_morphological_filter(points, cell_size=1.0, max_window_size=20, \n",
    "                                   initial_threshold=0.5, slope=0.3):\n",
    "    \"\"\"\n",
    "    PMF filter, returns mask (True = ground)\n",
    "    \"\"\"\n",
    "    min_x, min_y = np.min(points[:, :2], axis=0)\n",
    "    max_x, max_y = np.max(points[:, :2], axis=0)\n",
    "    \n",
    "    cols = int(np.ceil((max_x - min_x) / cell_size))\n",
    "    rows = int(np.ceil((max_y - min_y) / cell_size))\n",
    "    \n",
    "    grid = np.full((rows, cols), np.inf)\n",
    "    for x, y, z in points:\n",
    "        col = int((x - min_x) / cell_size)\n",
    "        row = int((y - min_y) / cell_size)\n",
    "        if 0 <= row < rows and 0 <= col < cols:\n",
    "            if z < grid[row, col]:\n",
    "                grid[row, col] = z\n",
    "    \n",
    "    ground_mask = np.zeros(len(points), dtype=bool)\n",
    "    \n",
    "    window_sizes = [3, 5, 7, 9, 11, 13, 15, 17, 19, 21]\n",
    "    \n",
    "    for window_size in window_sizes:\n",
    "        if window_size > max_window_size:\n",
    "            break\n",
    "            \n",
    "        footprint = np.ones((window_size, window_size))\n",
    "        eroded = ndimage.grey_erosion(grid, footprint=footprint)\n",
    "        opened = ndimage.grey_dilation(eroded, footprint=footprint)\n",
    "        \n",
    "        current_threshold = initial_threshold + slope * (window_size / 2) * cell_size\n",
    "        \n",
    "        for i, (x, y, z) in enumerate(points):\n",
    "            col = int((x - min_x) / cell_size)\n",
    "            row = int((y - min_y) / cell_size)\n",
    "            \n",
    "            if 0 <= row < rows and 0 <= col < cols:\n",
    "                if z - opened[row, col] <= current_threshold:\n",
    "                    ground_mask[i] = True\n",
    "    \n",
    "    return ground_mask"
   ]
  },
  {
   "cell_type": "code",
   "execution_count": null,
   "id": "83aa2f3b",
   "metadata": {},
   "outputs": [],
   "source": [
    "def save_las_points(\n",
    "    original_las: laspy.LasData,\n",
    "    points: np.ndarray,\n",
    "    output_path: str,\n",
    "    copy_attributes: bool = True\n",
    "):\n",
    "    \"\"\"\n",
    "    Сохраняет LAS-файл из массива точек, копируя метаданные и при желании атрибуты.\n",
    "\n",
    "    Args:\n",
    "        original_las (laspy.LasData): исходный LAS-файл (для копирования header и метаданных)\n",
    "        points (np.ndarray): Nx3 массив координат (x, y, z)\n",
    "        output_path (str): путь для сохранения\n",
    "        copy_attributes (bool): копировать ли intensity, classification и т.д.\n",
    "    \"\"\"\n",
    "    \n",
    "    # создаём новый заголовок на основе оригинала\n",
    "    header = laspy.LasHeader(\n",
    "        point_format=original_las.header.point_format,\n",
    "        version=original_las.header.version\n",
    "    )\n",
    "    header.scales = original_las.header.scales\n",
    "    header.offsets = original_las.header.offsets\n",
    "\n",
    "    # создаём новый LAS-объект\n",
    "    new_las = laspy.LasData(header)\n",
    "\n",
    "    # записываем координаты\n",
    "    new_las.x = points[:, 0]\n",
    "    new_las.y = points[:, 1]\n",
    "    new_las.z = points[:, 2]\n",
    "\n",
    "    # при необходимости копируем остальные поля\n",
    "    if copy_attributes:\n",
    "        attrs = [\n",
    "            'intensity', 'return_number', 'number_of_returns',\n",
    "            'classification', 'user_data', 'gps_time',\n",
    "            'red', 'green', 'blue'\n",
    "        ]\n",
    "        for attr in attrs:\n",
    "            if hasattr(original_las, attr):\n",
    "                data = getattr(original_las, attr)\n",
    "                if len(data) == len(original_las.points):\n",
    "                    new_las[attr] = data[:len(points)]  # если точек меньше, копируем соответствующее количество\n",
    "\n",
    "    # сохраняем\n",
    "    new_las.write(output_path)\n",
    "    print(f\"Saved {len(points):,} points to {output_path}\")\n"
   ]
  },
  {
   "cell_type": "markdown",
   "id": "686a853e",
   "metadata": {},
   "source": [
    "# Отделение земли с помощью PMF"
   ]
  },
  {
   "cell_type": "code",
   "execution_count": null,
   "id": "e581dcb3",
   "metadata": {},
   "outputs": [],
   "source": [
    "input_las_path = \"data/test_scan.las\"\n",
    "\n",
    "las = laspy.read(input_las_path)\n",
    "points = np.vstack((las.x, las.y, las.z)).transpose()\n",
    "# points = [[x1, y1, z1],\n",
    "#           [x2, y2, z2]...]\n",
    "\n",
    "\n",
    "print(\"before applied filter\")\n",
    "ground_mask = progressive_morphological_filter(points, \n",
    "                                               cell_size=0.5,\n",
    "                                               max_window_size=15,\n",
    "                                               initial_threshold=0.3,\n",
    "                                               slope=0.2)\n",
    "\n",
    "\n",
    "# Invert ground\n",
    "non_ground_mask = ~ground_mask\n",
    "\n",
    "print(f\"Non ground points: {np.sum(non_ground_mask)}\")\n",
    "print(f\"Ground points: {np.sum(ground_mask)}\")\n",
    "\n",
    "ground_points     = points[ground_mask]\n",
    "non_ground_points = points[non_ground_mask]\n",
    "\n",
    "\n",
    "save_las_points(las, ground_points, \"ground.las\")\n",
    "save_las_points(las, non_ground_points, \"non_ground.las\")"
   ]
  },
  {
   "cell_type": "markdown",
   "id": "013b27aa",
   "metadata": {},
   "source": [
    "# Фильтрация точек земли"
   ]
  },
  {
   "cell_type": "code",
   "execution_count": null,
   "id": "bbdd1513",
   "metadata": {},
   "outputs": [],
   "source": [
    "max_ground_height = 2\n",
    "ground_mask_fix = ground_points[:, 2] <= max_ground_height\n",
    "\n",
    "print(f\"Ground points over threshold: {np.sum(~ground_mask_fix)}\")\n",
    "\n",
    "ground_points_v2 = ground_points[ground_mask_fix]\n",
    "\n",
    "save_las_points(las, ground_points_v2, \"ground_v2.las\")"
   ]
  },
  {
   "cell_type": "markdown",
   "id": "a012e129",
   "metadata": {},
   "source": [
    "# Нормализация "
   ]
  },
  {
   "cell_type": "code",
   "execution_count": null,
   "id": "587500be",
   "metadata": {},
   "outputs": [],
   "source": [
    "def normalize_point_cloud(points, ground_points, method='linear'):\n",
    "    \"\"\"\n",
    "    Нормализует высоту облака относительно поверхности земли.\n",
    "\n",
    "    Args:\n",
    "        points (np.ndarray): Nx3 массив (x, y, z) — точки, которые хотим нормализовать.\n",
    "        ground_points (np.ndarray): Mx3 массив (x, y, z) — точки земли.\n",
    "        method (str): метод интерполяции ('linear', 'nearest', 'cubic').\n",
    "\n",
    "    Returns:\n",
    "        np.ndarray: массив таких же точек, но с нормализованным z.\n",
    "    \"\"\"\n",
    "    print(\"⚙️ Интерполяция поверхности земли...\")\n",
    "\n",
    "    # интерполяция z_ground по координатам x, y\n",
    "    ground_z = griddata(\n",
    "        ground_points[:, :2],\n",
    "        ground_points[:, 2],\n",
    "        points[:, :2],\n",
    "        method=method,\n",
    "        fill_value=np.nan\n",
    "    )\n",
    "\n",
    "    # нормализуем\n",
    "    normalized_points = points.copy()\n",
    "    normalized_points[:, 2] = points[:, 2] - ground_z\n",
    "\n",
    "    # удаляем точки с NaN (за пределами модели)\n",
    "    mask_valid = ~np.isnan(normalized_points[:, 2])\n",
    "    normalized_points = normalized_points[mask_valid]\n",
    "\n",
    "    # Убираем точки ниже чем минимальная точка земли\n",
    "    # treshold = min(ground_z)\n",
    "    treshold = 0\n",
    "    lower_than_ground = normalized_points[:, 2] >= treshold\n",
    "    normalized_points = normalized_points[lower_than_ground]\n",
    "    \n",
    "\n",
    "    print(f\"✅ Нормализовано {len(normalized_points):,} точек (из {len(points):,})\")\n",
    "\n",
    "    return normalized_points\n"
   ]
  },
  {
   "cell_type": "code",
   "execution_count": null,
   "id": "41fcc5e9",
   "metadata": {},
   "outputs": [],
   "source": [
    "normalized_points = normalize_point_cloud(non_ground_points, ground_points)\n",
    "save_las_points(las, normalized_points, \"normalized.las\")"
   ]
  },
  {
   "cell_type": "markdown",
   "id": "509befa9",
   "metadata": {},
   "source": [
    "# Информация по полученым файлам"
   ]
  },
  {
   "cell_type": "code",
   "execution_count": null,
   "id": "21099384",
   "metadata": {},
   "outputs": [],
   "source": [
    "print_las_info(input_las_path)"
   ]
  },
  {
   "cell_type": "code",
   "execution_count": null,
   "id": "0a36d161",
   "metadata": {},
   "outputs": [],
   "source": [
    "print_las_info(\"ground.las\")"
   ]
  },
  {
   "cell_type": "code",
   "execution_count": null,
   "id": "90547aca",
   "metadata": {},
   "outputs": [
    {
     "name": "stdout",
     "output_type": "stream",
     "text": [
      "\n",
      "Файл: non_ground.las\n",
      "Формат версии: 1.2\n",
      "Количество точек: 1,182,178\n",
      "Диапазон координат (X, Y, Z):\n",
      "  X: -0.15 - 39.85  (ширина 40.00 м)\n",
      "  Y: -61.56 - -27.03  (размах 34.53 м)\n",
      "  Z: -3.09 - 21.20  (высота 24.29 м)\n",
      "Площадь покрытия: 0.00 км²\n",
      "Средняя плотность: 855.93 точек/м²\n",
      "\n",
      "Пример точек:\n",
      "x: -0.01 y: -52.14 z: -0.91\n",
      "x: -0.01 y: -52.15 z: -0.89\n",
      "x: -0.02 y: -27.03 z: -3.09\n"
     ]
    }
   ],
   "source": [
    "print_las_info(\"non_ground.las\")"
   ]
  },
  {
   "cell_type": "code",
   "execution_count": null,
   "id": "7044fa8c",
   "metadata": {},
   "outputs": [],
   "source": [
    "print_las_info(\"ground_v2.las\")"
   ]
  },
  {
   "cell_type": "code",
   "execution_count": null,
   "id": "7eee76e6",
   "metadata": {},
   "outputs": [],
   "source": [
    "print_las_info(\"normalized.las\")"
   ]
  }
 ],
 "metadata": {
  "kernelspec": {
   "display_name": ".venv",
   "language": "python",
   "name": "python3"
  },
  "language_info": {
   "codemirror_mode": {
    "name": "ipython",
    "version": 3
   },
   "file_extension": ".py",
   "mimetype": "text/x-python",
   "name": "python",
   "nbconvert_exporter": "python",
   "pygments_lexer": "ipython3",
   "version": "3.13.7"
  }
 },
 "nbformat": 4,
 "nbformat_minor": 5
}
