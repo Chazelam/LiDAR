{
 "cells": [
  {
   "cell_type": "code",
   "execution_count": 10,
   "id": "8d765170",
   "metadata": {},
   "outputs": [],
   "source": [
    "import numpy as np\n",
    "# from scipy.interpolate import griddata\n",
    "# from scipy.spatial import cKDTree\n",
    "import laspy\n",
    "from scipy import ndimage\n",
    "from tqdm import tqdm\n",
    "from matplotlib import pyplot as plt\n",
    "import os"
   ]
  },
  {
   "cell_type": "code",
   "execution_count": 2,
   "id": "59a1147d",
   "metadata": {},
   "outputs": [
    {
     "name": "stdout",
     "output_type": "stream",
     "text": [
      "43,005,548\n"
     ]
    }
   ],
   "source": [
    "folder_path = \"/home/chazelam/Code/LiDAR/5+1_split_output\"\n",
    "file_names = os.listdir(folder_path)\n",
    "# file_name = os.path.join(folder_path, file_names[0])\n",
    "file_name = os.path.join(folder_path, \"tile_4_4.las\")\n",
    "\n",
    "\n",
    "las = laspy.read(file_name)\n",
    "points = np.vstack((las.x, las.y, las.z)).T\n",
    "print(f\"{len(points):,}\")"
   ]
  },
  {
   "cell_type": "code",
   "execution_count": 66,
   "id": "37517420",
   "metadata": {},
   "outputs": [],
   "source": [
    "cell_size=0.5\n",
    "max_window_size=15\n",
    "initial_threshold=0.3\n",
    "slope=0.2"
   ]
  },
  {
   "cell_type": "code",
   "execution_count": null,
   "id": "408664dc",
   "metadata": {},
   "outputs": [
    {
     "name": "stdout",
     "output_type": "stream",
     "text": [
      "x: 0.0 - 10.849\n",
      "y: -3.029 - 3.97\n"
     ]
    }
   ],
   "source": [
    "print(f\"x: {las.header.x_min} - {las.header.x_max}\")\n",
    "print(f\"y: {las.header.y_min} - {las.header.y_max}\")"
   ]
  },
  {
   "cell_type": "code",
   "execution_count": 18,
   "id": "a7c34d56",
   "metadata": {},
   "outputs": [
    {
     "name": "stdout",
     "output_type": "stream",
     "text": [
      "x: 0.0 - 10.849\n",
      "y: -3.029 - 3.97\n"
     ]
    }
   ],
   "source": [
    "min_x, min_y = np.min(points[:, :2], axis=0)\n",
    "max_x, max_y = np.max(points[:, :2], axis=0)\n",
    "\n",
    "print(f\"x: {min_x} - {max_x}\")\n",
    "print(f\"y: {min_y} - {max_y}\")"
   ]
  },
  {
   "cell_type": "code",
   "execution_count": 34,
   "id": "1746a115",
   "metadata": {},
   "outputs": [
    {
     "name": "stdout",
     "output_type": "stream",
     "text": [
      "22\n",
      "14\n"
     ]
    }
   ],
   "source": [
    "cols = np.ceil((max_x - min_x) / cell_size).astype(int)[0]\n",
    "rows = np.ceil((max_y - min_y) / cell_size).astype(int)[0]\n",
    "\n",
    "print(cols)\n",
    "print(rows)"
   ]
  },
  {
   "cell_type": "code",
   "execution_count": null,
   "id": "7ac3f654",
   "metadata": {},
   "outputs": [
    {
     "name": "stderr",
     "output_type": "stream",
     "text": [
      "/tmp/ipykernel_8049/1975137510.py:3: DeprecationWarning: Conversion of an array with ndim > 0 to a scalar is deprecated, and will error in future. Ensure you extract a single element from your array before performing this operation. (Deprecated NumPy 1.25.)\n",
      "  col = int((x - min_x) / cell_size)\n",
      "/tmp/ipykernel_8049/1975137510.py:4: DeprecationWarning: Conversion of an array with ndim > 0 to a scalar is deprecated, and will error in future. Ensure you extract a single element from your array before performing this operation. (Deprecated NumPy 1.25.)\n",
      "  row = int((y - min_y) / cell_size)\n"
     ]
    }
   ],
   "source": [
    "grid_old = np.full((rows, cols), np.inf)\n",
    "for x, y, z in points:\n",
    "    col = int((x - min_x) / cell_size)\n",
    "    row = int((y - min_y) / cell_size)\n",
    "    if 0 <= row < rows and 0 <= col < cols:\n",
    "        if z < grid_old[row, col]:\n",
    "            grid_old[row, col] = z"
   ]
  },
  {
   "cell_type": "code",
   "execution_count": null,
   "id": "8ef70e9f",
   "metadata": {},
   "outputs": [],
   "source": [
    "grid = np.full((rows, cols), np.inf, dtype=np.float32)\n",
    "\n",
    "# индексы всех точек (векторно)\n",
    "col_idx = np.floor((points[:,0] - min_x) / cell_size).astype(np.int64)\n",
    "row_idx = np.floor((points[:,1] - min_y) / cell_size).astype(np.int64)\n",
    "\n",
    "# маска точек внутри области\n",
    "valid = (row_idx >= 0) & (row_idx < rows) & (col_idx >= 0) & (col_idx < cols)\n",
    "row_idx = row_idx[valid]\n",
    "col_idx = col_idx[valid]\n",
    "z_vals  = points[valid, 2].astype(np.float32)\n",
    "\n",
    "# сводим 2D индексы в 1D для применения minimum.at\n",
    "flat_idx = row_idx * cols + col_idx\n",
    "flat_grid = grid.ravel()\n",
    "\n",
    "# применяем минимум по индексам (в C, быстро)\n",
    "np.minimum.at(flat_grid, flat_idx, z_vals)\n",
    "\n",
    "# возвращаем 2D\n",
    "grid = flat_grid.reshape((rows, cols))"
   ]
  },
  {
   "cell_type": "code",
   "execution_count": null,
   "id": "06c06d94",
   "metadata": {},
   "outputs": [
    {
     "name": "stdout",
     "output_type": "stream",
     "text": [
      "1.754760745598105e-07\n"
     ]
    },
    {
     "name": "stderr",
     "output_type": "stream",
     "text": [
      "/tmp/ipykernel_8049/2077071434.py:1: RuntimeWarning: invalid value encountered in subtract\n",
      "  dif = np.subtract(grid, grid_2)\n"
     ]
    }
   ],
   "source": [
    "dif = np.subtract(grid, grid_old)\n",
    "dif = dif[~np.isnan(dif)]\n",
    "print(dif.max())"
   ]
  },
  {
   "cell_type": "code",
   "execution_count": 73,
   "id": "dc6ae2c8",
   "metadata": {},
   "outputs": [],
   "source": [
    "def update_ground_mask(points, \n",
    "                       grid_opened, \n",
    "                       ground_mask, \n",
    "                       min_x, min_y, \n",
    "                       cell_size, \n",
    "                       current_threshold):\n",
    "    \n",
    "    rows, cols = grid_opened.shape\n",
    "    x, y, z = points[:, 0], points[:, 1], points[:, 2]\n",
    "\n",
    "    # Преобразуем в индексы ячеек (векторно)\n",
    "    col_idx = np.floor((x - min_x) / cell_size).astype(np.int32)\n",
    "    row_idx = np.floor((y - min_y) / cell_size).astype(np.int32)\n",
    "\n",
    "    # Маска точек, попадающих внутрь сетки\n",
    "    valid = (row_idx >= 0) & (row_idx < rows) & (col_idx >= 0) & (col_idx < cols)\n",
    "    row_idx, col_idx, z_valid = row_idx[valid], col_idx[valid], z[valid]\n",
    "\n",
    "    # Извлекаем значения из открытой поверхности\n",
    "    opened_vals = grid_opened[row_idx, col_idx]\n",
    "\n",
    "    # Проверяем условие\n",
    "    mask_valid = (z_valid - opened_vals) <= current_threshold\n",
    "\n",
    "    # Обновляем исходную маску\n",
    "    ground_mask[valid] |= mask_valid"
   ]
  },
  {
   "cell_type": "code",
   "execution_count": null,
   "id": "6849fe4f",
   "metadata": {},
   "outputs": [],
   "source": [
    "# Дольше 15 минут\n",
    "# Проблема в переборе точек\n",
    "\n",
    "ground_mask = np.zeros(len(points), dtype=bool)\n",
    "\n",
    "window_sizes = [3, 5, 7, 9, 11, 13, 15, 17, 19, 21]\n",
    "    \n",
    "for window_size in window_sizes:\n",
    "    if window_size > max_window_size:\n",
    "        break\n",
    "        \n",
    "    footprint = np.ones((window_size, window_size))\n",
    "    eroded = ndimage.grey_erosion(grid, footprint=footprint)\n",
    "    opened = ndimage.grey_dilation(eroded, footprint=footprint)\n",
    "    \n",
    "    current_threshold = initial_threshold + slope * (window_size / 2) * cell_size\n",
    "    \n",
    "    for i, (x, y, z) in enumerate(points):\n",
    "        col = int((x - min_x) / cell_size)\n",
    "        row = int((y - min_y) / cell_size)\n",
    "        \n",
    "        if 0 <= row < rows and 0 <= col < cols:\n",
    "            if z - opened[row, col] <= current_threshold:\n",
    "                ground_mask[i] = True"
   ]
  },
  {
   "cell_type": "code",
   "execution_count": null,
   "id": "c6a86d4f",
   "metadata": {},
   "outputs": [],
   "source": [
    "ground_mask = np.zeros(len(points), dtype=bool)\n",
    "\n",
    "window_sizes = [3, 5, 7, 9, 11, 13, 15, 17, 19, 21]\n",
    "    \n",
    "for window_size in window_sizes:\n",
    "    if window_size > max_window_size:\n",
    "        break\n",
    "        \n",
    "    footprint = np.ones((window_size, window_size))\n",
    "    eroded = ndimage.grey_erosion(grid, footprint=footprint)\n",
    "    opened = ndimage.grey_dilation(eroded, footprint=footprint)\n",
    "    current_threshold = initial_threshold + slope * (window_size / 2) * cell_size\n",
    "\n",
    "    update_ground_mask(points, \n",
    "                       opened, \n",
    "                       ground_mask, \n",
    "                       min_x, min_y,\n",
    "                       cell_size,\n",
    "                       current_threshold)\n",
    "    \n",
    "# Invert ground\n",
    "non_ground_mask = ~ground_mask\n",
    "\n",
    "print(f\"Non ground points: {np.sum(non_ground_mask):,}\")\n",
    "print(f\"Ground points: {np.sum(ground_mask):,}\")"
   ]
  },
  {
   "cell_type": "code",
   "execution_count": 75,
   "id": "2afa9b93",
   "metadata": {},
   "outputs": [],
   "source": [
    "def save_las_points(\n",
    "    original_las: laspy.LasData,\n",
    "    points: np.ndarray,\n",
    "    output_path: str,\n",
    "    copy_attributes: bool = True):\n",
    "    \n",
    "    # создаём новый заголовок на основе оригинала\n",
    "    header = laspy.LasHeader(\n",
    "        point_format=original_las.header.point_format,\n",
    "        version=original_las.header.version\n",
    "    )\n",
    "    header.scales = original_las.header.scales\n",
    "    header.offsets = original_las.header.offsets\n",
    "\n",
    "    # создаём новый LAS-объект\n",
    "    new_las = laspy.LasData(header)\n",
    "\n",
    "    # записываем координаты\n",
    "    new_las.x = points[:, 0]\n",
    "    new_las.y = points[:, 1]\n",
    "    new_las.z = points[:, 2]\n",
    "\n",
    "    # при необходимости копируем остальные поля\n",
    "    if copy_attributes:\n",
    "        attrs = [\n",
    "            'intensity', 'return_number', 'number_of_returns',\n",
    "            'classification', 'user_data', 'gps_time',\n",
    "            'red', 'green', 'blue'\n",
    "        ]\n",
    "        for attr in attrs:\n",
    "            if hasattr(original_las, attr):\n",
    "                data = getattr(original_las, attr)\n",
    "                if len(data) == len(original_las.points):\n",
    "                    new_las[attr] = data[:len(points)]  # если точек меньше, копируем соответствующее количество\n",
    "\n",
    "    # сохраняем\n",
    "    new_las.write(output_path)\n",
    "    print(f\"Saved {len(points):,} points to {output_path}\")\n"
   ]
  },
  {
   "cell_type": "code",
   "execution_count": null,
   "id": "f161b19d",
   "metadata": {},
   "outputs": [
    {
     "name": "stdout",
     "output_type": "stream",
     "text": [
      "Non ground points: 18878285\n",
      "Ground points: 24127263\n",
      "Saved 24,127,263 points to ground.las\n",
      "Saved 18,878,285 points to non_ground.las\n"
     ]
    }
   ],
   "source": [
    "non_ground_points = points[non_ground_mask]\n",
    "\n",
    "save_las_points(las, points[ground_mask], \"ground.las\")\n",
    "save_las_points(las, non_ground_points, \"non_ground.las\")"
   ]
  }
 ],
 "metadata": {
  "kernelspec": {
   "display_name": ".venv",
   "language": "python",
   "name": "python3"
  },
  "language_info": {
   "codemirror_mode": {
    "name": "ipython",
    "version": 3
   },
   "file_extension": ".py",
   "mimetype": "text/x-python",
   "name": "python",
   "nbconvert_exporter": "python",
   "pygments_lexer": "ipython3",
   "version": "3.13.7"
  }
 },
 "nbformat": 4,
 "nbformat_minor": 5
}
