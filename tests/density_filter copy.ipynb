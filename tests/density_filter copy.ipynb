{
 "cells": [
  {
   "cell_type": "code",
   "execution_count": 1,
   "id": "620b3e3c",
   "metadata": {},
   "outputs": [],
   "source": [
    "import numpy as np\n",
    "from scipy.interpolate import griddata\n",
    "from scipy.spatial import cKDTree\n",
    "import laspy\n",
    "from scipy import ndimage\n",
    "from tqdm import tqdm\n",
    "from matplotlib import pyplot as plt\n",
    "import os\n",
    "\n",
    "import numpy as np\n",
    "import laspy\n",
    "from scipy import ndimage\n",
    "import os"
   ]
  },
  {
   "cell_type": "code",
   "execution_count": 2,
   "id": "f6cd5541",
   "metadata": {},
   "outputs": [],
   "source": [
    "def print_las_info(las_path):\n",
    "    \"\"\"\n",
    "    Выводит основную информацию о LAS/LAZ файле:\n",
    "    количество точек, границы (X, Y, Z), размер области и примерную плотность.\n",
    "    x, y - \n",
    "    z - высота\n",
    "    \"\"\"\n",
    "    with laspy.open(las_path) as f:\n",
    "        header = f.header\n",
    "        num_points = header.point_count\n",
    "        min_x, max_x = header.mins[0], header.maxs[0]\n",
    "        min_y, max_y = header.mins[1], header.maxs[1]\n",
    "        min_z, max_z = header.mins[2], header.maxs[2]\n",
    "\n",
    "        width = max_x - min_x\n",
    "        lenght = max_y - min_y\n",
    "        area = width * lenght if width > 0 and lenght > 0 else np.nan\n",
    "        density = num_points / area if area and not np.isnan(area) else np.nan\n",
    "\n",
    "        print(f\"\\nФайл: {os.path.basename(las_path)}\")\n",
    "        print(f\"Формат версии: {header.version}\")\n",
    "        print(f\"Количество точек: {num_points:,}\")\n",
    "        print(f\"Диапазон координат (X, Y, Z):\")\n",
    "        print(f\"  X: {min_x:.2f} - {max_x:.2f}  (ширина {width:.2f} м)\")\n",
    "        print(f\"  Y: {min_y:.2f} - {max_y:.2f}  (размах {lenght:.2f} м)\")\n",
    "        print(f\"  Z: {min_z:.2f} - {max_z:.2f}  (высота {max_z - min_z:.2f} м)\")\n",
    "        print(f\"Площадь покрытия: {area/1e6:.2f} км²\")\n",
    "\n",
    "        print(f\"Средняя плотность: {density:.2f} точек/м²\\n\")\n",
    "\n",
    "        # Первые несколько точек\n",
    "        print(\"Пример точек:\")\n",
    "        for points in f.chunk_iterator(3):\n",
    "            for i in range(3):\n",
    "                print(f\"x: {points.x[i]:.2f} y: {points.y[i]:.2f} z: {points.z[i]:.2f}\")\n",
    "            break"
   ]
  },
  {
   "cell_type": "code",
   "execution_count": 3,
   "id": "0f4ccd56",
   "metadata": {},
   "outputs": [],
   "source": [
    "def print_array_data(data):\n",
    "    data = np.array(data)\n",
    "    print(data.shape)\n",
    "    print(f\"{data.min():.2f} - {data.max():.2f}\")\n",
    "    print(data.mean())\n",
    "    counts, bins = np.histogram(data)\n",
    "    plt.stairs(counts, bins)"
   ]
  },
  {
   "cell_type": "code",
   "execution_count": 4,
   "id": "2cf9cc5f",
   "metadata": {},
   "outputs": [
    {
     "name": "stdout",
     "output_type": "stream",
     "text": [
      "\n",
      "Файл: non_ground.las\n",
      "Формат версии: 1.2\n",
      "Количество точек: 18,880,083\n",
      "Диапазон координат (X, Y, Z):\n",
      "  X: 3.85 - 10.85  (ширина 7.00 м)\n",
      "  Y: -3.03 - 3.97  (размах 7.00 м)\n",
      "  Z: -1.56 - 18.82  (высота 20.39 м)\n",
      "Площадь покрытия: 0.00 км²\n",
      "Средняя плотность: 385417.93 точек/м²\n",
      "\n",
      "Пример точек:\n",
      "x: 6.08 y: -2.18 z: -1.40\n",
      "x: 6.09 y: -2.18 z: -1.41\n",
      "x: 6.09 y: -2.18 z: -1.41\n"
     ]
    }
   ],
   "source": [
    "# folder_path = \"/home/chazelam/Code/LiDAR/PMF_out\"\n",
    "# file_name = os.path.join(folder_path, \"non_ground.las\")\n",
    "file_name = \"non_ground.las\"\n",
    "\n",
    "print_las_info(file_name)"
   ]
  },
  {
   "cell_type": "code",
   "execution_count": 5,
   "id": "8f6e6650",
   "metadata": {},
   "outputs": [
    {
     "name": "stdout",
     "output_type": "stream",
     "text": [
      "Loaded 18,880,083 points\n"
     ]
    }
   ],
   "source": [
    "las = laspy.read(file_name)\n",
    "points = np.vstack((las.x, las.y, las.z)).T\n",
    "print(f\"Loaded {len(points):,} points\")"
   ]
  },
  {
   "cell_type": "code",
   "execution_count": 34,
   "id": "48582dfe",
   "metadata": {},
   "outputs": [
    {
     "ename": "KeyboardInterrupt",
     "evalue": "",
     "output_type": "error",
     "traceback": [
      "\u001b[31m---------------------------------------------------------------------------\u001b[39m",
      "\u001b[31mKeyboardInterrupt\u001b[39m                         Traceback (most recent call last)",
      "\u001b[36mCell\u001b[39m\u001b[36m \u001b[39m\u001b[32mIn[34]\u001b[39m\u001b[32m, line 1\u001b[39m\n\u001b[32m----> \u001b[39m\u001b[32m1\u001b[39m tree = \u001b[43mcKDTree\u001b[49m\u001b[43m(\u001b[49m\u001b[43mpoints\u001b[49m\u001b[43m)\u001b[49m\n",
      "\u001b[31mKeyboardInterrupt\u001b[39m: "
     ]
    }
   ],
   "source": [
    "tree = cKDTree(points)"
   ]
  },
  {
   "cell_type": "code",
   "execution_count": 37,
   "id": "793084a9",
   "metadata": {},
   "outputs": [
    {
     "name": "stdout",
     "output_type": "stream",
     "text": [
      "[1 1 1 ... 1 1 1]\n",
      "(18880083,)\n",
      "1.00 - 7.00\n",
      "1.088757448788758\n"
     ]
    },
    {
     "data": {
      "image/png": "[encoded data removed]",
      "text/plain": [
       "<Figure size 640x480 with 1 Axes>"
      ]
     },
     "metadata": {},
     "output_type": "display_data"
    }
   ],
   "source": [
    "counts_small = tree.query_ball_point(points, r=0.001, workers=-1, return_length=True)\n",
    "\n",
    "print(counts_small)\n",
    "np.save(\"vicinity_of_0.1.npy\", counts_small)\n",
    "print_array_data(counts_small)"
   ]
  },
  {
   "cell_type": "code",
   "execution_count": null,
   "id": "c3741e37",
   "metadata": {},
   "outputs": [
    {
     "name": "stdout",
     "output_type": "stream",
     "text": [
      "(18880083,)\n",
      "1.00 - 1749.00\n",
      "80.28385674999416\n"
     ]
    },
    {
     "data": {
      "image/png": "[encoded data removed]",
      "text/plain": [
       "<Figure size 640x480 with 1 Axes>"
      ]
     },
     "metadata": {},
     "output_type": "display_data"
    }
   ],
   "source": []
  },
  {
   "cell_type": "code",
   "execution_count": 7,
   "id": "ecf8a603",
   "metadata": {},
   "outputs": [
    {
     "name": "stdout",
     "output_type": "stream",
     "text": [
      "[4161 3658 3740 ...   57   28   57]\n"
     ]
    }
   ],
   "source": [
    "counts_small = tree.query_ball_point(points, r=0.1, workers=-1, return_length=True)\n",
    "\n",
    "print(counts_small)"
   ]
  },
  {
   "cell_type": "code",
   "execution_count": 32,
   "id": "a5f5254a",
   "metadata": {},
   "outputs": [
    {
     "name": "stdout",
     "output_type": "stream",
     "text": [
      "(18880083,)\n",
      "1.00 - 102927.00\n",
      "7930.568049674358\n"
     ]
    },
    {
     "data": {
      "image/png": "[encoded data removed]",
      "text/plain": [
       "<Figure size 640x480 with 1 Axes>"
      ]
     },
     "metadata": {},
     "output_type": "display_data"
    }
   ],
   "source": [
    "np.save(\"vicinity_of_10.npy\", counts_small)\n",
    "print_array_data(counts_small)"
   ]
  },
  {
   "cell_type": "code",
   "execution_count": 9,
   "id": "4a0e0d3e",
   "metadata": {},
   "outputs": [
    {
     "name": "stdout",
     "output_type": "stream",
     "text": [
      "[188028 187051 187752 ...   1247   1322   1256]\n"
     ]
    }
   ],
   "source": [
    "counts_large = tree.query_ball_point(points, r=1, workers=-1, return_length=True)\n",
    "\n",
    "print(counts_large)"
   ]
  },
  {
   "cell_type": "code",
   "execution_count": 33,
   "id": "889afb28",
   "metadata": {},
   "outputs": [
    {
     "name": "stdout",
     "output_type": "stream",
     "text": [
      "(18880083,)\n",
      "1.00 - 1736018.00\n",
      "491899.87454721465\n"
     ]
    },
    {
     "data": {
      "image/png": "[encoded data removed]",
      "text/plain": [
       "<Figure size 640x480 with 1 Axes>"
      ]
     },
     "metadata": {},
     "output_type": "display_data"
    }
   ],
   "source": [
    "np.save(\"vicinity_of_100.npy\", counts_large)\n",
    "print_array_data(counts_large)"
   ]
  },
  {
   "cell_type": "code",
   "execution_count": null,
   "id": "5f390ba5",
   "metadata": {},
   "outputs": [
    {
     "name": "stdout",
     "output_type": "stream",
     "text": [
      "0\n"
     ]
    }
   ],
   "source": [
    "test = np.load(\"vicinity_of_100.npy\")\n",
    "\n",
    "print(min(test - counts_large))"
   ]
  },
  {
   "cell_type": "code",
   "execution_count": 11,
   "id": "29cf9ec3",
   "metadata": {},
   "outputs": [],
   "source": [
    "rel_density = counts_large / counts_small"
   ]
  },
  {
   "cell_type": "code",
   "execution_count": null,
   "id": "daaedd21",
   "metadata": {},
   "outputs": [
    {
     "name": "stdout",
     "output_type": "stream",
     "text": [
      "(18880083,)\n",
      "1.00 - 1620845.00\n",
      "248.60672064294985\n"
     ]
    },
    {
     "data": {
      "image/png": "[encoded data removed]",
      "text/plain": [
       "<Figure size 640x480 with 1 Axes>"
      ]
     },
     "metadata": {},
     "output_type": "display_data"
    }
   ],
   "source": [
    "print_array_data(rel_density)"
   ]
  },
  {
   "cell_type": "code",
   "execution_count": 18,
   "id": "275ace1a",
   "metadata": {},
   "outputs": [
    {
     "name": "stdout",
     "output_type": "stream",
     "text": [
      "(18392821,)\n",
      "1.00 - 999.99\n",
      "150.4052858630422\n"
     ]
    },
    {
     "data": {
      "image/png": "[encoded data removed]",
      "text/plain": [
       "<Figure size 640x480 with 1 Axes>"
      ]
     },
     "metadata": {},
     "output_type": "display_data"
    }
   ],
   "source": [
    "split = rel_density < 1000\n",
    "\n",
    "lower = rel_density[split]\n",
    "\n",
    "print_array_data(lower)"
   ]
  },
  {
   "cell_type": "code",
   "execution_count": 27,
   "id": "f8d724b6",
   "metadata": {},
   "outputs": [
    {
     "name": "stdout",
     "output_type": "stream",
     "text": [
      "\n",
      "Файл: trees.las\n",
      "Формат версии: 1.2\n",
      "Количество точек: 1,296,075\n",
      "Диапазон координат (X, Y, Z):\n",
      "  X: 3.85 - 10.85  (ширина 7.00 м)\n",
      "  Y: -3.03 - 3.97  (размах 7.00 м)\n",
      "  Z: -1.56 - 18.57  (высота 20.13 м)\n",
      "Площадь покрытия: 0.00 км²\n",
      "Средняя плотность: 26458.07 точек/м²\n",
      "\n",
      "Пример точек:\n",
      "x: 6.03 y: -2.31 z: -0.58\n",
      "x: 6.03 y: -2.31 z: -0.57\n",
      "x: 6.02 y: -2.30 z: -0.57\n"
     ]
    }
   ],
   "source": [
    "density_threshold = 500\n",
    "\n",
    "mask = rel_density > density_threshold\n",
    "\n",
    "las[mask].write(\"trees.las\")\n",
    "\n",
    "print_las_info(\"trees.las\")"
   ]
  },
  {
   "cell_type": "code",
   "execution_count": null,
   "id": "27e12349",
   "metadata": {},
   "outputs": [
    {
     "name": "stdout",
     "output_type": "stream",
     "text": [
      "\n",
      "Файл: trees.las\n",
      "Формат версии: 1.2\n",
      "Количество точек: 487,259\n",
      "Диапазон координат (X, Y, Z):\n",
      "  X: 3.85 - 10.85  (ширина 7.00 м)\n",
      "  Y: -3.03 - 3.97  (размах 7.00 м)\n",
      "  Z: -1.56 - 18.57  (высота 20.13 м)\n",
      "Площадь покрытия: 0.00 км²\n",
      "Средняя плотность: 9946.90 точек/м²\n",
      "\n",
      "Пример точек:\n",
      "x: 6.14 y: -2.29 z: -0.55\n",
      "x: 6.03 y: -2.43 z: -0.02\n",
      "x: 6.04 y: -2.43 z: -0.02\n"
     ]
    }
   ],
   "source": []
  },
  {
   "cell_type": "code",
   "execution_count": null,
   "id": "4d1cdeb9",
   "metadata": {},
   "outputs": [
    {
     "name": "stdout",
     "output_type": "stream",
     "text": [
      "(777823, 3)\n"
     ]
    }
   ],
   "source": [
    "candidates = np.vstack(candidates)\n",
    "print(candidates.shape)"
   ]
  },
  {
   "cell_type": "code",
   "execution_count": null,
   "id": "dee4e56e",
   "metadata": {},
   "outputs": [
    {
     "name": "stdout",
     "output_type": "stream",
     "text": [
      "Saved 777,823 points to can.las\n"
     ]
    }
   ],
   "source": [
    "las = laspy.read(las_path)\n",
    "\n",
    "save_las_points(las, candidates, \"can.las\")"
   ]
  },
  {
   "cell_type": "code",
   "execution_count": null,
   "id": "34321207",
   "metadata": {},
   "outputs": [
    {
     "name": "stdout",
     "output_type": "stream",
     "text": [
      "\n",
      "Файл: can.las\n",
      "Формат версии: 1.2\n",
      "Количество точек: 777,823\n",
      "Диапазон координат (X, Y, Z):\n",
      "  X: -0.15 - 39.85  (ширина 40.00 м)\n",
      "  Y: -61.56 - -27.03  (размах 34.53 м)\n",
      "  Z: 0.50 - 12.00  (высота 11.50 м)\n",
      "Площадь покрытия: 0.00 км²\n",
      "Средняя плотность: 563.17 точек/м²\n",
      "\n",
      "Пример точек:\n",
      "x: -0.07 y: -60.33 z: 8.00\n",
      "x: -0.10 y: -60.33 z: 8.02\n",
      "x: -0.07 y: -60.32 z: 8.02\n"
     ]
    }
   ],
   "source": [
    "print_las_info(\"can.las\")"
   ]
  },
  {
   "cell_type": "markdown",
   "id": "942c022e",
   "metadata": {},
   "source": [
    "### Фильтрация кандидатов"
   ]
  },
  {
   "cell_type": "code",
   "execution_count": null,
   "id": "6880b3f7",
   "metadata": {},
   "outputs": [],
   "source": [
    "tree = cKDTree(candidates, leafsize=16)\n",
    "neighbors = tree.query_ball_point(candidates, r=1)\n",
    "counts = np.fromiter((len(lst) for lst in neighbors), dtype=np.int32)"
   ]
  },
  {
   "cell_type": "code",
   "execution_count": null,
   "id": "aca4255e",
   "metadata": {},
   "outputs": [],
   "source": [
    "N = candidates.shape[0]\n",
    "tree = cKDTree(candidates, leafsize=16)\n",
    "counts = np.empty(N, dtype=np.int32)\n",
    "\n",
    "# Обход по чанкам, чтобы не получить гигантские списки\n",
    "for start in range(0, N, chunk_size):\n",
    "    end = min(N, start + chunk_size)\n",
    "    # query_ball_point возвращает список списков индексов\n",
    "    neighbors = tree.query_ball_point(candidates[start:end, :], r=0.1)\n",
    "    # длины списков = количество соседей\n",
    "    counts[start:end] = np.fromiter((len(lst) for lst in neighbors), dtype=np.int32)"
   ]
  },
  {
   "cell_type": "code",
   "execution_count": null,
   "id": "de73052c",
   "metadata": {},
   "outputs": [
    {
     "name": "stdout",
     "output_type": "stream",
     "text": [
      "[ 7  9  9 ... 11  8  8]\n",
      "1 - 555\n",
      "92.27824710763245\n",
      "92.27824710763245\n",
      "(438773, 3)\n"
     ]
    }
   ],
   "source": [
    "# Порог: если в окрестности мало соседей, то - шум\n",
    "print(counts)\n",
    "print(f\"{min(counts)} - {max(counts)}\")\n",
    "print(np.mean(counts))\n",
    "print(np.average(counts))\n",
    "mask = counts > 50\n",
    "\n",
    "candidates_v2 = candidates[mask]\n",
    "print(candidates_v2.shape)"
   ]
  },
  {
   "cell_type": "code",
   "execution_count": null,
   "id": "a9e8a88b",
   "metadata": {},
   "outputs": [
    {
     "name": "stdout",
     "output_type": "stream",
     "text": [
      "71776143\n",
      "Saved 438,773 points to can_v2.las\n"
     ]
    }
   ],
   "source": [
    "print(sum(counts))\n",
    "\n",
    "las = laspy.read(las_path)\n",
    "\n",
    "save_las_points(las, candidates_v2, \"can_v2.las\")"
   ]
  }
 ],
 "metadata": {
  "kernelspec": {
   "display_name": ".venv",
   "language": "python",
   "name": "python3"
  },
  "language_info": {
   "codemirror_mode": {
    "name": "ipython",
    "version": 3
   },
   "file_extension": ".py",
   "mimetype": "text/x-python",
   "name": "python",
   "nbconvert_exporter": "python",
   "pygments_lexer": "ipython3",
   "version": "3.13.7"
  }
 },
 "nbformat": 4,
 "nbformat_minor": 5
}
