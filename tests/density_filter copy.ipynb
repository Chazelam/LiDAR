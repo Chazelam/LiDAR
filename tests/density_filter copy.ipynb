{
 "cells": [
  {
   "cell_type": "code",
   "execution_count": 1,
   "id": "620b3e3c",
   "metadata": {},
   "outputs": [],
   "source": [
    "import numpy as np\n",
    "from scipy.interpolate import griddata\n",
    "from scipy.spatial import cKDTree\n",
    "import laspy\n",
    "from scipy import ndimage\n",
    "from tqdm import tqdm\n",
    "from matplotlib import pyplot as plt\n",
    "import os\n",
    "\n",
    "import numpy as np\n",
    "import laspy\n",
    "from scipy import ndimage\n",
    "import os"
   ]
  },
  {
   "cell_type": "code",
   "execution_count": 2,
   "id": "f6cd5541",
   "metadata": {},
   "outputs": [],
   "source": [
    "def print_las_info(las_path):\n",
    "    \"\"\"\n",
    "    Выводит основную информацию о LAS/LAZ файле:\n",
    "    количество точек, границы (X, Y, Z), размер области и примерную плотность.\n",
    "    x, y - \n",
    "    z - высота\n",
    "    \"\"\"\n",
    "    with laspy.open(las_path) as f:\n",
    "        header = f.header\n",
    "        num_points = header.point_count\n",
    "        min_x, max_x = header.mins[0], header.maxs[0]\n",
    "        min_y, max_y = header.mins[1], header.maxs[1]\n",
    "        min_z, max_z = header.mins[2], header.maxs[2]\n",
    "\n",
    "        width = max_x - min_x\n",
    "        lenght = max_y - min_y\n",
    "        area = width * lenght if width > 0 and lenght > 0 else np.nan\n",
    "        density = num_points / area if area and not np.isnan(area) else np.nan\n",
    "\n",
    "        print(f\"\\nФайл: {os.path.basename(las_path)}\")\n",
    "        print(f\"Формат версии: {header.version}\")\n",
    "        print(f\"Количество точек: {num_points:,}\")\n",
    "        print(f\"Диапазон координат (X, Y, Z):\")\n",
    "        print(f\"  X: {min_x:.2f} - {max_x:.2f}  (ширина {width:.2f} м)\")\n",
    "        print(f\"  Y: {min_y:.2f} - {max_y:.2f}  (размах {lenght:.2f} м)\")\n",
    "        print(f\"  Z: {min_z:.2f} - {max_z:.2f}  (высота {max_z - min_z:.2f} м)\")\n",
    "        print(f\"Площадь покрытия: {area/1e6:.2f} км²\")\n",
    "\n",
    "        print(f\"Средняя плотность: {density:.2f} точек/м²\\n\")\n",
    "\n",
    "        # Первые несколько точек\n",
    "        print(\"Пример точек:\")\n",
    "        for points in f.chunk_iterator(3):\n",
    "            for i in range(3):\n",
    "                print(f\"x: {points.x[i]:.2f} y: {points.y[i]:.2f} z: {points.z[i]:.2f}\")\n",
    "            break"
   ]
  },
  {
   "cell_type": "code",
   "execution_count": 3,
   "id": "0f4ccd56",
   "metadata": {},
   "outputs": [],
   "source": [
    "def print_array_data(data):\n",
    "    data = np.array(data)\n",
    "    print(data.shape)\n",
    "    print(f\"{data.min():.2f} - {data.max():.2f}\")\n",
    "    print(data.mean())\n",
    "    counts, bins = np.histogram(data)\n",
    "    plt.stairs(counts, bins)"
   ]
  },
  {
   "cell_type": "code",
   "execution_count": null,
   "id": "26899ef5",
   "metadata": {},
   "outputs": [],
   "source": [
    "# PMF\n",
    "def update_ground_mask(points, \n",
    "                       grid_opened, \n",
    "                       ground_mask, \n",
    "                       min_x, min_y, \n",
    "                       cell_size, \n",
    "                       current_threshold):\n",
    "\n",
    "    # Размеры сетки\n",
    "    rows, cols = grid_opened.shape\n",
    "    # Загружаем точки\n",
    "    x, y, z = points[:, 0], points[:, 1], points[:, 2]\n",
    "\n",
    "    # Для кажой точки находим ее индекс в сетке\n",
    "    col_idx = np.floor((x - min_x) / cell_size).astype(np.int32)\n",
    "    row_idx = np.floor((y - min_y) / cell_size).astype(np.int32)\n",
    "\n",
    "    # Маска точек, попадающих внутрь сетки\n",
    "    valid = (row_idx >= 0) & (row_idx < rows) & (col_idx >= 0) & (col_idx < cols)\n",
    "    row_idx, col_idx, z_valid = row_idx[valid], col_idx[valid], z[valid]\n",
    "\n",
    "    # Извлекаем значения из открытой поверхности\n",
    "    opened_vals = grid_opened[row_idx, col_idx]\n",
    "\n",
    "    # Проверяем условие\n",
    "    mask_valid = (z_valid - opened_vals) <= current_threshold\n",
    "\n",
    "    # Обновляем исходную маску (дизъюнкция с перведущей)\n",
    "    ground_mask[valid] |= mask_valid\n",
    "\n",
    "    return ground_mask\n",
    "\n",
    "\n",
    "def progressive_morphological_filter(points,\n",
    "                                     cell_size=1.0,\n",
    "                                     max_window_size=20, \n",
    "                                     initial_threshold=0.5, \n",
    "                                     slope=0.3):\n",
    "    \n",
    "\n",
    "    min_x, min_y = np.min(points[:, :2], axis=0)\n",
    "    max_x, max_y = np.max(points[:, :2], axis=0)\n",
    "    \n",
    "    \n",
    "\n",
    "    # find lovest points --------\n",
    "\n",
    "    # Построение пространственной сетки\n",
    "    cols = np.ceil((max_x - min_x) / cell_size).astype(int)\n",
    "    rows = np.ceil((max_y - min_y) / cell_size).astype(int)\n",
    "    grid = np.full((rows, cols), np.inf, dtype=np.float32)\n",
    "    \n",
    "    # Для кажой точки находим ее индекс в сетке\n",
    "    col_idx = np.floor((points[:,0] - min_x) / cell_size).astype(np.int64)\n",
    "    row_idx = np.floor((points[:,1] - min_y) / cell_size).astype(np.int64)\n",
    "\n",
    "    # Проверка чтобы точки не вышли за сетку\n",
    "    valid = (row_idx >= 0) & (row_idx < rows) & (col_idx >= 0) & (col_idx < cols)\n",
    "    row_idx = row_idx[valid]\n",
    "    col_idx = col_idx[valid]\n",
    "\n",
    "    # отделяем z координаты в одномерный массив\n",
    "    z_vals  = points[valid, 2].astype(np.float32)\n",
    "\n",
    "    # Сводим друмерную сетку к одномерной\n",
    "    flat_idx = row_idx * cols + col_idx\n",
    "    flat_grid = grid.ravel()\n",
    "\n",
    "    # Находим минимум среди всех z_vals с одним индексом\n",
    "    # и помещаем в flat_grid\n",
    "    np.minimum.at(flat_grid, flat_idx, z_vals)\n",
    "\n",
    "    # возвращаем сетку в двумерный вид\n",
    "    grid = flat_grid.reshape((rows, cols))\n",
    "\n",
    "    # ------------\n",
    "\n",
    "    # Пуская маска земли\n",
    "    ground_mask = np.zeros(len(points), dtype=bool)\n",
    "\n",
    "    # Возможные значаения окон\n",
    "    window_sizes = [3, 5, 7, 9, 11, 13, 15, 17, 19, 21]\n",
    "        \n",
    "    for window_size in window_sizes:\n",
    "        if window_size > max_window_size:\n",
    "            break\n",
    "            \n",
    "        footprint = np.ones((window_size, window_size))\n",
    "        eroded = ndimage.grey_erosion(grid, footprint=footprint)\n",
    "        opened = ndimage.grey_dilation(eroded, footprint=footprint)\n",
    "        current_threshold = initial_threshold + slope * (window_size / 2) * cell_size\n",
    "\n",
    "        ground_mask = update_ground_mask(points, \n",
    "                                         opened, \n",
    "                                         ground_mask, \n",
    "                                         min_x, min_y,\n",
    "                                         cell_size,\n",
    "                                         current_threshold)\n",
    "    \n",
    "    return ground_mask"
   ]
  },
  {
   "cell_type": "code",
   "execution_count": null,
   "id": "f0d06423",
   "metadata": {},
   "outputs": [
    {
     "name": "stdout",
     "output_type": "stream",
     "text": [
      "43,005,548\n"
     ]
    }
   ],
   "source": [
    "folder_path = \"/home/chazelam/Code/LiDAR/5+1_split_output\"\n",
    "file_names = os.listdir(folder_path)\n",
    "# file_name = os.path.join(folder_path, file_names[0])\n",
    "file_name = os.path.join(folder_path, \"tile_4_4.las\")\n",
    "\n",
    "\n",
    "las = laspy.read(file_name)\n",
    "points = np.vstack((las.x, las.y, las.z)).T\n",
    "print(f\"file contain {len(points):,} points\")"
   ]
  },
  {
   "cell_type": "code",
   "execution_count": null,
   "id": "04cc278d",
   "metadata": {},
   "outputs": [],
   "source": [
    "\n",
    "output_dir = \"PMF_out\"\n",
    "os.makedirs(output_dir, exist_ok=True)\n",
    "\n",
    "# PMF \n",
    "cell_size=0.5\n",
    "max_window_size=15\n",
    "initial_threshold=0.3\n",
    "slope=0.2\n",
    "\n",
    "ground_mask = progressive_morphological_filter(points = points,\n",
    "                                                cell_size = cell_size,\n",
    "                                                max_window_size = max_window_size, \n",
    "                                                initial_threshold = initial_threshold, \n",
    "                                                slope = slope)\n",
    "\n",
    "\n",
    "non_ground_mask = ~ground_mask\n",
    "\n",
    "non_ground_path = os.path.join(output_dir, \"non_ground.las\")\n",
    "non_ground = las[non_ground_mask]\n",
    "non_ground.write(non_ground_path)\n",
    "\n",
    "print(f\"Saved {non_ground.header.point_count:,} points to {non_ground_path}\")\n",
    "\n",
    "\n",
    "ground_path = os.path.join(output_dir, \"ground.las\")\n",
    "ground = las[ground_mask]\n",
    "ground.write(ground_path)\n",
    "\n",
    "print(f\"Saved {ground.header.point_count:,} points to {ground_path}\")"
   ]
  },
  {
   "cell_type": "code",
   "execution_count": 4,
   "id": "2cf9cc5f",
   "metadata": {},
   "outputs": [
    {
     "name": "stdout",
     "output_type": "stream",
     "text": [
      "\n",
      "Файл: non_ground.las\n",
      "Формат версии: 1.2\n",
      "Количество точек: 18,880,083\n",
      "Диапазон координат (X, Y, Z):\n",
      "  X: 3.85 - 10.85  (ширина 7.00 м)\n",
      "  Y: -3.03 - 3.97  (размах 7.00 м)\n",
      "  Z: -1.56 - 18.82  (высота 20.39 м)\n",
      "Площадь покрытия: 0.00 км²\n",
      "Средняя плотность: 385417.93 точек/м²\n",
      "\n",
      "Пример точек:\n",
      "x: 6.08 y: -2.18 z: -1.40\n",
      "x: 6.09 y: -2.18 z: -1.41\n",
      "x: 6.09 y: -2.18 z: -1.41\n"
     ]
    }
   ],
   "source": [
    "folder_path = \"/home/chazelam/Code/LiDAR/PMF_out\"\n",
    "file_name = os.path.join(folder_path, \"non_ground.las\")\n",
    "\n",
    "print_las_info(file_name)"
   ]
  },
  {
   "cell_type": "code",
   "execution_count": 5,
   "id": "8f6e6650",
   "metadata": {},
   "outputs": [
    {
     "name": "stdout",
     "output_type": "stream",
     "text": [
      "Loaded 18,880,083 points\n"
     ]
    }
   ],
   "source": [
    "las = laspy.read(file_name)\n",
    "points = np.vstack((las.x, las.y, las.z)).T\n",
    "print(f\"Loaded {len(points):,} points\")"
   ]
  },
  {
   "cell_type": "code",
   "execution_count": 6,
   "id": "48582dfe",
   "metadata": {},
   "outputs": [],
   "source": [
    "tree = cKDTree(points)"
   ]
  },
  {
   "cell_type": "code",
   "execution_count": null,
   "id": "ecf8a603",
   "metadata": {},
   "outputs": [],
   "source": [
    "counts_small = tree.query_ball_point(points, r=0.1, workers=-1, return_length=True)\n",
    "\n",
    "print(counts_small)"
   ]
  },
  {
   "cell_type": "code",
   "execution_count": null,
   "id": "a5f5254a",
   "metadata": {},
   "outputs": [
    {
     "name": "stdout",
     "output_type": "stream",
     "text": [
      "(4128523,)\n",
      "1.00 - 2587.00\n",
      "409.6002732696415\n"
     ]
    },
    {
     "data": {
      "image/png": "[encoded data removed]",
      "text/plain": [
       "<Figure size 640x480 with 1 Axes>"
      ]
     },
     "metadata": {},
     "output_type": "display_data"
    }
   ],
   "source": [
    "print_array_data(counts_small)"
   ]
  },
  {
   "cell_type": "code",
   "execution_count": null,
   "id": "4a0e0d3e",
   "metadata": {},
   "outputs": [
    {
     "name": "stdout",
     "output_type": "stream",
     "text": [
      "[1181 1182 1205 ... 4081 4076 3998]\n"
     ]
    }
   ],
   "source": [
    "counts_large = tree.query_ball_point(points, r=1, workers=-1, return_length=True)\n",
    "\n",
    "print(counts_large)"
   ]
  },
  {
   "cell_type": "code",
   "execution_count": null,
   "id": "889afb28",
   "metadata": {},
   "outputs": [
    {
     "name": "stdout",
     "output_type": "stream",
     "text": [
      "(4128523,)\n",
      "34.00 - 92322.00\n",
      "28259.556346664413\n"
     ]
    },
    {
     "data": {
      "image/png": "[encoded data removed]",
      "text/plain": [
       "<Figure size 640x480 with 1 Axes>"
      ]
     },
     "metadata": {},
     "output_type": "display_data"
    }
   ],
   "source": [
    "print_array_data(counts_large)"
   ]
  },
  {
   "cell_type": "code",
   "execution_count": null,
   "id": "29cf9ec3",
   "metadata": {},
   "outputs": [],
   "source": [
    "rel_density = counts_large / counts_small"
   ]
  },
  {
   "cell_type": "code",
   "execution_count": null,
   "id": "daaedd21",
   "metadata": {},
   "outputs": [
    {
     "name": "stdout",
     "output_type": "stream",
     "text": [
      "(4128523,)\n",
      "1.09 - 74415.00\n",
      "161.54220849538856\n"
     ]
    },
    {
     "data": {
      "image/png": "[encoded data removed]",
      "text/plain": [
       "<Figure size 640x480 with 1 Axes>"
      ]
     },
     "metadata": {},
     "output_type": "display_data"
    }
   ],
   "source": [
    "print_array_data(rel_density)"
   ]
  },
  {
   "cell_type": "code",
   "execution_count": null,
   "id": "c5099642",
   "metadata": {},
   "outputs": [],
   "source": []
  },
  {
   "cell_type": "code",
   "execution_count": null,
   "id": "f8d724b6",
   "metadata": {},
   "outputs": [],
   "source": [
    "density_threshold = 700\n",
    "\n",
    "mask = density > density_threshold\n",
    "\n",
    "las = laspy.read(\"non_ground.las\")\n",
    "points = np.vstack((las.x, las.y, las.z)).transpose()\n",
    "\n",
    "print(f\"Tree points: {np.sum(mask)}\")\n",
    "print(f\"Non tree points: {np.sum(~mask)}\")\n",
    "\n",
    "ground_points     = points[mask]\n",
    "non_ground_points = points[~mask]\n",
    "\n",
    "\n",
    "save_las_points(las, ground_points, \"con_v3.las\")\n",
    "save_las_points(las, non_ground_points, \"non_con.las\")"
   ]
  },
  {
   "cell_type": "code",
   "execution_count": null,
   "id": "4d1cdeb9",
   "metadata": {},
   "outputs": [
    {
     "name": "stdout",
     "output_type": "stream",
     "text": [
      "(777823, 3)\n"
     ]
    }
   ],
   "source": [
    "candidates = np.vstack(candidates)\n",
    "print(candidates.shape)"
   ]
  },
  {
   "cell_type": "code",
   "execution_count": null,
   "id": "dee4e56e",
   "metadata": {},
   "outputs": [
    {
     "name": "stdout",
     "output_type": "stream",
     "text": [
      "Saved 777,823 points to can.las\n"
     ]
    }
   ],
   "source": [
    "las = laspy.read(las_path)\n",
    "\n",
    "save_las_points(las, candidates, \"can.las\")"
   ]
  },
  {
   "cell_type": "code",
   "execution_count": null,
   "id": "34321207",
   "metadata": {},
   "outputs": [
    {
     "name": "stdout",
     "output_type": "stream",
     "text": [
      "\n",
      "Файл: can.las\n",
      "Формат версии: 1.2\n",
      "Количество точек: 777,823\n",
      "Диапазон координат (X, Y, Z):\n",
      "  X: -0.15 - 39.85  (ширина 40.00 м)\n",
      "  Y: -61.56 - -27.03  (размах 34.53 м)\n",
      "  Z: 0.50 - 12.00  (высота 11.50 м)\n",
      "Площадь покрытия: 0.00 км²\n",
      "Средняя плотность: 563.17 точек/м²\n",
      "\n",
      "Пример точек:\n",
      "x: -0.07 y: -60.33 z: 8.00\n",
      "x: -0.10 y: -60.33 z: 8.02\n",
      "x: -0.07 y: -60.32 z: 8.02\n"
     ]
    }
   ],
   "source": [
    "print_las_info(\"can.las\")"
   ]
  },
  {
   "cell_type": "markdown",
   "id": "942c022e",
   "metadata": {},
   "source": [
    "### Фильтрация кандидатов"
   ]
  },
  {
   "cell_type": "code",
   "execution_count": null,
   "id": "6880b3f7",
   "metadata": {},
   "outputs": [],
   "source": [
    "tree = cKDTree(candidates, leafsize=16)\n",
    "neighbors = tree.query_ball_point(candidates, r=1)\n",
    "counts = np.fromiter((len(lst) for lst in neighbors), dtype=np.int32)"
   ]
  },
  {
   "cell_type": "code",
   "execution_count": null,
   "id": "aca4255e",
   "metadata": {},
   "outputs": [],
   "source": [
    "N = candidates.shape[0]\n",
    "tree = cKDTree(candidates, leafsize=16)\n",
    "counts = np.empty(N, dtype=np.int32)\n",
    "\n",
    "# Обход по чанкам, чтобы не получить гигантские списки\n",
    "for start in range(0, N, chunk_size):\n",
    "    end = min(N, start + chunk_size)\n",
    "    # query_ball_point возвращает список списков индексов\n",
    "    neighbors = tree.query_ball_point(candidates[start:end, :], r=0.1)\n",
    "    # длины списков = количество соседей\n",
    "    counts[start:end] = np.fromiter((len(lst) for lst in neighbors), dtype=np.int32)"
   ]
  },
  {
   "cell_type": "code",
   "execution_count": null,
   "id": "de73052c",
   "metadata": {},
   "outputs": [
    {
     "name": "stdout",
     "output_type": "stream",
     "text": [
      "[ 7  9  9 ... 11  8  8]\n",
      "1 - 555\n",
      "92.27824710763245\n",
      "92.27824710763245\n",
      "(438773, 3)\n"
     ]
    }
   ],
   "source": [
    "# Порог: если в окрестности мало соседей, то - шум\n",
    "print(counts)\n",
    "print(f\"{min(counts)} - {max(counts)}\")\n",
    "print(np.mean(counts))\n",
    "print(np.average(counts))\n",
    "mask = counts > 50\n",
    "\n",
    "candidates_v2 = candidates[mask]\n",
    "print(candidates_v2.shape)"
   ]
  },
  {
   "cell_type": "code",
   "execution_count": null,
   "id": "a9e8a88b",
   "metadata": {},
   "outputs": [
    {
     "name": "stdout",
     "output_type": "stream",
     "text": [
      "71776143\n",
      "Saved 438,773 points to can_v2.las\n"
     ]
    }
   ],
   "source": [
    "print(sum(counts))\n",
    "\n",
    "las = laspy.read(las_path)\n",
    "\n",
    "save_las_points(las, candidates_v2, \"can_v2.las\")"
   ]
  }
 ],
 "metadata": {
  "kernelspec": {
   "display_name": ".venv",
   "language": "python",
   "name": "python3"
  },
  "language_info": {
   "codemirror_mode": {
    "name": "ipython",
    "version": 3
   },
   "file_extension": ".py",
   "mimetype": "text/x-python",
   "name": "python",
   "nbconvert_exporter": "python",
   "pygments_lexer": "ipython3",
   "version": "3.13.7"
  }
 },
 "nbformat": 4,
 "nbformat_minor": 5
}
